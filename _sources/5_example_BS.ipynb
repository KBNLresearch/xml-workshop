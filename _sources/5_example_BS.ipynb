{
 "cells": [
  {
   "cell_type": "markdown",
   "id": "b6c9483b",
   "metadata": {},
   "source": [
    "# 5. Practical session: Working with Beautiful Soup\n",
    "\n",
    "\n",
    "In this lesson, we are going to explore how we can use the package Beautiful Soup to extract content from XML files. \n",
    "We use the same example file that was used in lesson **2** ([download here](https://github.com/MirjamC/xml-workshop/tree/master/data).\n",
    "\n",
    "This lesson is divided into the following steps:\n",
    "- Load the XML file;\n",
    "- Examine the structure of the XML file;\n",
    "- Extract the booktitles and descriptions;\n",
    "- Extract name and surname of the author;\n",
    "- Extract the book identifier;\n",
    "- Structure all information;\n",
    "- Explore namespaces;\n",
    "- Extra: Filter information\n",
    "\n",
    "Open a new Jupyter Notebook and type all the code examples and code exercises in your Notebook. \n",
    "\n",
    "## Install Beautiful Soup\n",
    "\n",
    "Beautifull Soup is not a standard Python package, so it needs to be installed first.\n",
    "This can be done directly in the Jupyter Notebook using:\n",
    "\n",
    "```\n",
    "!pip install beautifulsoup4\n",
    "```\n",
    "\n",
    "or through the command line (see lesson *1*)\n",
    "\n",
    "```\n",
    "pip install beautifulsoup4\n",
    "```\n",
    "\n",
    "## Import Beautiful Soup and load the xml file\n",
    "\n",
    "Before we can use the package, we have to let Python know we want to use it. We do this by importing the package.\n",
    "Type the following in a code cell:"
   ]
  },
  {
   "cell_type": "code",
   "execution_count": 1,
   "id": "25fe822b",
   "metadata": {},
   "outputs": [],
   "source": [
    "from bs4 import BeautifulSoup  "
   ]
  },
  {
   "cell_type": "markdown",
   "id": "14f3af74",
   "metadata": {},
   "source": [
    "Now we can use the package to extract data from the XML. \n",
    "\n",
    "## Examine the structure of the file\n",
    "\n",
    "\n",
    "Now we want to open the XML file from which we want to extract information. \n",
    "Add a new code cell and type:"
   ]
  },
  {
   "cell_type": "code",
   "execution_count": 2,
   "id": "04a1bf9c",
   "metadata": {},
   "outputs": [],
   "source": [
    "with open(\"data/example.xml\") as f:\n",
    "    root = BeautifulSoup(f, 'xml')"
   ]
  },
  {
   "cell_type": "markdown",
   "id": "3cb2c82e",
   "metadata": {},
   "source": [
    "```{note}\n",
    "In the code above, alter the 'data/example' with the path to the folder and the filename of where you stored the file. \n",
    "```\n",
    "\n",
    "When you want to extract information from an XML file, it is important that you are familiar with the structure of the file. \n",
    "There are two ways to do this. \n",
    "\n",
    "1. You can open the file in a program like Notepad++ or open it in your browser\n",
    "2. You can show the file in your Jupyter Notebook with the following code:"
   ]
  },
  {
   "cell_type": "code",
   "execution_count": 3,
   "id": "de0d0d4a",
   "metadata": {
    "tags": [
     "hide-output"
    ]
   },
   "outputs": [
    {
     "name": "stdout",
     "output_type": "stream",
     "text": [
      "<?xml version=\"1.0\" encoding=\"utf-8\"?>\n",
      "<catalog>\n",
      "<book id=\"bk101\">\n",
      "<author>\n",
      "<name>Matthew</name>\n",
      "<surname>Gambardella</surname>\n",
      "</author>\n",
      "<title>XML Developer's Guide</title>\n",
      "<genre>Computer</genre>\n",
      "<price>44.95</price>\n",
      "<publish_date>2000-10-01</publish_date>\n",
      "<description>An in-depth look at creating applications \n",
      "      with XML.</description>\n",
      "</book>\n",
      "<book id=\"bk102\">\n",
      "<author>\n",
      "<name>Kim</name>\n",
      "<surname>Ralls</surname>\n",
      "</author>\n",
      "<title>Midnight Rain</title>\n",
      "<genre>Fantasy</genre>\n",
      "<price>5.95</price>\n",
      "<publish_date>2000-12-16</publish_date>\n",
      "<description>A former architect battles corporate zombies, \n",
      "      an evil sorceress, and her own childhood to become queen \n",
      "      of the world.</description>\n",
      "</book>\n",
      "<book id=\"bk103\">\n",
      "<author>\n",
      "<name>Eva</name>\n",
      "<surname>Corets</surname>\n",
      "</author>\n",
      "<title>Maeve Ascendant</title>\n",
      "<genre>Fantasy</genre>\n",
      "<price>5.95</price>\n",
      "<publish_date>2000-11-17</publish_date>\n",
      "<description>After the collapse of a nanotechnology \n",
      "      society in England, the young survivors lay the \n",
      "      foundation for a new society.</description>\n",
      "</book>\n",
      "<book id=\"bk104\">\n",
      "<author>\n",
      "<name>Eva</name>\n",
      "<surname>Corets</surname>\n",
      "</author>\n",
      "<title>Oberon's Legacy</title>\n",
      "<genre>Fantasy</genre>\n",
      "<price>5.95</price>\n",
      "<publish_date>2001-03-10</publish_date>\n",
      "<description>In post-apocalypse England, the mysterious \n",
      "      agent known only as Oberon helps to create a new life \n",
      "      for the inhabitants of London. Sequel to Maeve \n",
      "      Ascendant.</description>\n",
      "</book>\n",
      "<book id=\"bk105\">\n",
      "<author>\n",
      "<name>Eva</name>\n",
      "<surname>Corets</surname>\n",
      "</author>\n",
      "<title>The Sundered Grail</title>\n",
      "<genre>Fantasy</genre>\n",
      "<price>5.95</price>\n",
      "<publish_date>2001-09-10</publish_date>\n",
      "<description>The two daughters of Maeve, half-sisters, \n",
      "      battle one another for control of England. Sequel to \n",
      "      Oberon's Legacy.</description>\n",
      "</book>\n",
      "<book id=\"bk106\">\n",
      "<author>\n",
      "<name>Cynthia</name>\n",
      "<surname>Randall</surname>\n",
      "</author>\n",
      "<title>Lover Birds</title>\n",
      "<genre>Romance</genre>\n",
      "<price>4.95</price>\n",
      "<publish_date>2000-09-02</publish_date>\n",
      "<description>When Carla meets Paul at an ornithology \n",
      "      conference, tempers fly as feathers get ruffled.</description>\n",
      "</book>\n",
      "<book id=\"bk107\">\n",
      "<author>\n",
      "<name>Paula</name>\n",
      "<surname>Thurman</surname>\n",
      "</author>\n",
      "<title>Splish Splash</title>\n",
      "<genre>Romance</genre>\n",
      "<price>4.95</price>\n",
      "<publish_date>2000-11-02</publish_date>\n",
      "<description>A deep sea diver finds true love twenty \n",
      "      thousand leagues beneath the sea.</description>\n",
      "</book>\n",
      "<book id=\"bk108\">\n",
      "<author>\n",
      "<name>Stefan</name>\n",
      "<surname>Knorr</surname>\n",
      "</author>\n",
      "<title>Creepy Crawlies</title>\n",
      "<genre>Horror</genre>\n",
      "<price>4.95</price>\n",
      "<publish_date>2000-12-06</publish_date>\n",
      "<description>An anthology of horror stories about roaches,\n",
      "      centipedes, scorpions  and other insects.</description>\n",
      "</book>\n",
      "<book id=\"bk109\">\n",
      "<author>\n",
      "<name>Peter</name>\n",
      "<surname>Kress</surname>\n",
      "</author>\n",
      "<title>Paradox Lost</title>\n",
      "<genre>Science Fiction</genre>\n",
      "<price>6.95</price>\n",
      "<publish_date>2000-11-02</publish_date>\n",
      "<description>After an inadvertant trip through a Heisenberg\n",
      "      Uncertainty Device, James Salway discovers the problems \n",
      "      of being quantum.</description>\n",
      "</book>\n",
      "<book id=\"bk110\">\n",
      "<author>\n",
      "<name>Tim</name>\n",
      "<surname>O'Brien</surname>\n",
      "</author>\n",
      "<title>Microsoft .NET: The Programming Bible</title>\n",
      "<genre>Computer</genre>\n",
      "<price>36.95</price>\n",
      "<publish_date>2000-12-09</publish_date>\n",
      "<description>Microsoft's .NET initiative is explored in \n",
      "      detail in this deep programmer's reference.</description>\n",
      "</book>\n",
      "<book id=\"bk111\">\n",
      "<author>\n",
      "<name>Tim</name>\n",
      "<surname>O'Brien</surname>\n",
      "</author>\n",
      "<title>MSXML3: A Comprehensive Guide</title>\n",
      "<genre>Computer</genre>\n",
      "<price>36.95</price>\n",
      "<publish_date>2000-12-01</publish_date>\n",
      "<description>The Microsoft MSXML3 parser is covered in \n",
      "      detail, with attention to XML DOM interfaces, XSLT processing, \n",
      "      SAX and more.</description>\n",
      "</book>\n",
      "<book id=\"bk112\">\n",
      "<author>\n",
      "<name>Mike</name>\n",
      "<surname>Galos</surname>\n",
      "</author>\n",
      "<title>Visual Studio 7: A Comprehensive Guide</title>\n",
      "<genre>Computer</genre>\n",
      "<price>49.95</price>\n",
      "<publish_date>2001-04-16</publish_date>\n",
      "<description>Microsoft Visual Studio 7 is explored in depth,\n",
      "      looking at how Visual Basic, Visual C++, C#, and ASP+ are \n",
      "      integrated into a comprehensive development \n",
      "      environment.</description>\n",
      "</book>\n",
      "</catalog>\n"
     ]
    }
   ],
   "source": [
    "print(root)"
   ]
  },
  {
   "cell_type": "markdown",
   "id": "f49f044b",
   "metadata": {},
   "source": [
    "## Extract the book titles and descriptions\n",
    "\n",
    "```{admonition} Exercise\n",
    ":class: attention\n",
    "Look at the XML structure. Which elements do we need to extract the title and the description?\n",
    "```\n",
    "\n",
    "\n",
    "```{admonition} Solution\n",
    ":class: tip, dropdown\n",
    "We need the element 'book', and its children 'title' and 'description'. \n",
    "```\n",
    "\n",
    "First, type the following code in your Jupyter Notebook to get the *title* from every book:"
   ]
  },
  {
   "cell_type": "code",
   "execution_count": 4,
   "id": "f0ac28e8",
   "metadata": {
    "tags": [
     "hide-output"
    ]
   },
   "outputs": [
    {
     "name": "stdout",
     "output_type": "stream",
     "text": [
      "XML Developer's Guide\n",
      "Midnight Rain\n",
      "Maeve Ascendant\n",
      "Oberon's Legacy\n",
      "The Sundered Grail\n",
      "Lover Birds\n",
      "Splish Splash\n",
      "Creepy Crawlies\n",
      "Paradox Lost\n",
      "Microsoft .NET: The Programming Bible\n",
      "MSXML3: A Comprehensive Guide\n",
      "Visual Studio 7: A Comprehensive Guide\n"
     ]
    }
   ],
   "source": [
    "for book in root.find_all('book'):\n",
    "    title = book.find('title').text\n",
    "    print(title)"
   ]
  },
  {
   "cell_type": "markdown",
   "id": "741a80c7",
   "metadata": {},
   "source": [
    "````{note}\n",
    "Although the basic *for loop* for ElementTree en Beautiful Soup look identical, please note that\n",
    "there is a small difference: ElementTree uses 'findall' and Beautiful Soup 'find_all' (with an underscore).\n",
    "````\n",
    "We shall explain what every line of the code does.\n",
    "\n",
    "First, we iterate through the complete XML file and search for every element with the tag name 'book'. \n",
    "\n",
    "```\n",
    "for book in root.find_all('book'):\n",
    "```\n",
    "\n",
    "Then, for every book element that exist, we create a temporarly new variable with the name 'title'. \n",
    "As value for this variable, we use the content of the tag 'title' (which is a direct child of the element 'book'). \n",
    "we add '.text'. to let Python know that we are interested in the value between the tags. \n",
    "Without the '.text' addition, Python would simply present us the tag in its location, like '<Element 'title' at 0x000001995B4718B0>'\n",
    "\n",
    "```\n",
    "title = book.find('title').text\n",
    "```\n",
    "\n",
    "Then, we print the output of the title\n",
    "```\n",
    "print(title)\n",
    "```\n",
    "\n",
    "After this, the loop proceeds to the following book elements, extraxts the title and print the title etc. \n",
    "\n",
    "We can get the description of each book in the same way.\n",
    "\n",
    "```{admonition} Exercise\n",
    ":class: attention\n",
    "Alter the code above to retreive all the *descriptions* and print out the descriptions. \n",
    "```\n",
    "\n",
    "````{admonition} Solution\n",
    ":class: tip, dropdown\n",
    "```Python\n",
    "for book in root.find_all('book'):\n",
    "\tdescription = book.find('description').text\n",
    "\tprint(description)\n",
    "```\t\n",
    "````\n",
    "This leads to the following output:"
   ]
  },
  {
   "cell_type": "code",
   "execution_count": 5,
   "id": "0a2e851a",
   "metadata": {
    "tags": [
     "remove-input",
     "hide-output"
    ]
   },
   "outputs": [
    {
     "name": "stdout",
     "output_type": "stream",
     "text": [
      "An in-depth look at creating applications \n",
      "      with XML.\n",
      "A former architect battles corporate zombies, \n",
      "      an evil sorceress, and her own childhood to become queen \n",
      "      of the world.\n",
      "After the collapse of a nanotechnology \n",
      "      society in England, the young survivors lay the \n",
      "      foundation for a new society.\n",
      "In post-apocalypse England, the mysterious \n",
      "      agent known only as Oberon helps to create a new life \n",
      "      for the inhabitants of London. Sequel to Maeve \n",
      "      Ascendant.\n",
      "The two daughters of Maeve, half-sisters, \n",
      "      battle one another for control of England. Sequel to \n",
      "      Oberon's Legacy.\n",
      "When Carla meets Paul at an ornithology \n",
      "      conference, tempers fly as feathers get ruffled.\n",
      "A deep sea diver finds true love twenty \n",
      "      thousand leagues beneath the sea.\n",
      "An anthology of horror stories about roaches,\n",
      "      centipedes, scorpions  and other insects.\n",
      "After an inadvertant trip through a Heisenberg\n",
      "      Uncertainty Device, James Salway discovers the problems \n",
      "      of being quantum.\n",
      "Microsoft's .NET initiative is explored in \n",
      "      detail in this deep programmer's reference.\n",
      "The Microsoft MSXML3 parser is covered in \n",
      "      detail, with attention to XML DOM interfaces, XSLT processing, \n",
      "      SAX and more.\n",
      "Microsoft Visual Studio 7 is explored in depth,\n",
      "      looking at how Visual Basic, Visual C++, C#, and ASP+ are \n",
      "      integrated into a comprehensive development \n",
      "      environment.\n"
     ]
    }
   ],
   "source": [
    "for book in root.find_all('book'):\n",
    "\tdescription = book.find('description').text\n",
    "\tprint(description)"
   ]
  },
  {
   "cell_type": "markdown",
   "id": "6d5054c7",
   "metadata": {},
   "source": [
    "We can use one *for loop* to extract both the book title *and* the description from the XML file. \n",
    "Combining multiple items is preferable because it saves unnecessary lines of codes and merges the part of the code which does the same thing.\n",
    "This makes the code more readable and better maintainable. \n",
    "\n",
    "Combining the two codes above leads to the following code:"
   ]
  },
  {
   "cell_type": "code",
   "execution_count": 6,
   "id": "9842cbdf",
   "metadata": {
    "tags": [
     "hide-output"
    ]
   },
   "outputs": [
    {
     "name": "stdout",
     "output_type": "stream",
     "text": [
      "XML Developer's Guide An in-depth look at creating applications \n",
      "      with XML.\n",
      "Midnight Rain A former architect battles corporate zombies, \n",
      "      an evil sorceress, and her own childhood to become queen \n",
      "      of the world.\n",
      "Maeve Ascendant After the collapse of a nanotechnology \n",
      "      society in England, the young survivors lay the \n",
      "      foundation for a new society.\n",
      "Oberon's Legacy In post-apocalypse England, the mysterious \n",
      "      agent known only as Oberon helps to create a new life \n",
      "      for the inhabitants of London. Sequel to Maeve \n",
      "      Ascendant.\n",
      "The Sundered Grail The two daughters of Maeve, half-sisters, \n",
      "      battle one another for control of England. Sequel to \n",
      "      Oberon's Legacy.\n",
      "Lover Birds When Carla meets Paul at an ornithology \n",
      "      conference, tempers fly as feathers get ruffled.\n",
      "Splish Splash A deep sea diver finds true love twenty \n",
      "      thousand leagues beneath the sea.\n",
      "Creepy Crawlies An anthology of horror stories about roaches,\n",
      "      centipedes, scorpions  and other insects.\n",
      "Paradox Lost After an inadvertant trip through a Heisenberg\n",
      "      Uncertainty Device, James Salway discovers the problems \n",
      "      of being quantum.\n",
      "Microsoft .NET: The Programming Bible Microsoft's .NET initiative is explored in \n",
      "      detail in this deep programmer's reference.\n",
      "MSXML3: A Comprehensive Guide The Microsoft MSXML3 parser is covered in \n",
      "      detail, with attention to XML DOM interfaces, XSLT processing, \n",
      "      SAX and more.\n",
      "Visual Studio 7: A Comprehensive Guide Microsoft Visual Studio 7 is explored in depth,\n",
      "      looking at how Visual Basic, Visual C++, C#, and ASP+ are \n",
      "      integrated into a comprehensive development \n",
      "      environment.\n"
     ]
    }
   ],
   "source": [
    "for book in root.find_all('book'):\n",
    "\ttitle = book.find('title').text\n",
    "\tdescription = book.find('description').text\n",
    "\tprint(title, description)"
   ]
  },
  {
   "cell_type": "markdown",
   "id": "98f4c79e",
   "metadata": {},
   "source": [
    "## Extract name and surname of the author\n",
    "You can use the same method as described above to extract all the names and surnames from the authors from the example XML. \n",
    "However, if we look at the structure of the XML file, there is a difference between the placement of the elements 'title' and 'description', and the \n",
    "elements 'name' and 'surname' in the XML structure. \n",
    "\n",
    "```XML\n",
    "<catalog>\n",
    "\t<book id=\"bk101\">\n",
    "\t\t<author>\n",
    "\t\t\t<name>Matthew</name>\n",
    "\t\t\t<surname>Gambardella</surname>\n",
    "\t\t</author>\n",
    "\t\t<title>XML Developer's Guide</title>\n",
    "\t\t<genre>Computer</genre>\n",
    "\t\t<price>44.95</price>\n",
    "\t\t<publish_date>2000-10-01</publish_date>\n",
    "\t\t<description>An in-depth look at creating applications with XML.</description>\n",
    "   </book>\n",
    "```\n",
    "\n",
    "\n",
    "```{admonition} Exercise\n",
    ":class: attention\n",
    "Look at the XML snippet above. What is the difference between the element 'title' and the element 'name'?\n",
    "```\n",
    "\n",
    "```{admonition} Solution\n",
    ":class: tip, dropdown\n",
    "\t\n",
    "The element 'title' is a child of the element 'book'. \n",
    "The element 'name' however, is a child of the element 'author' and a *sub*child of the element 'book'. \n",
    "\t\n",
    "```\n",
    "\n",
    "Because of the difference in the place between elements, we need to alter our code a bit. \n",
    "We can use two approaches:\n",
    "* Add another *for loop* inside or first loop;\n",
    "* 'escape' the element hierarchie. \n",
    "\n",
    "For the first approach, instead of a single *for loop* that iterates through all the 'book' elements, \n",
    "we also need a second *for loop* that runs through the 'author' element of 'book'. We can do this with the following code:"
   ]
  },
  {
   "cell_type": "code",
   "execution_count": 7,
   "id": "85ffeddd",
   "metadata": {
    "tags": [
     "hide-output"
    ]
   },
   "outputs": [
    {
     "name": "stdout",
     "output_type": "stream",
     "text": [
      "Matthew\n",
      "Kim\n",
      "Eva\n",
      "Eva\n",
      "Eva\n",
      "Cynthia\n",
      "Paula\n",
      "Stefan\n",
      "Peter\n",
      "Tim\n",
      "Tim\n",
      "Mike\n"
     ]
    }
   ],
   "source": [
    "for book in root.find_all('book'):\n",
    "    for author in book.find_all('author'):\n",
    "        name = author.find('name').text\n",
    "        print(name) "
   ]
  },
  {
   "cell_type": "markdown",
   "id": "6dd70a97",
   "metadata": {},
   "source": [
    "```{admonition} Exercise\n",
    ":class: attention\n",
    "The above code extracts only the name of an author. Alter the code, so that it extracts both the name and the surname. \n",
    "```\n",
    "\n",
    "````{admonition} Solution\n",
    ":class: tip, dropdown\n",
    "```Python\n",
    "for book in root.find_all('book'):\n",
    "\tfor author in book.find_all('author'):\n",
    "\t\tname = author.find('name').text\n",
    "\t\tsurname = author.find('surname').text\n",
    "\t\tprint(name, surname) \n",
    "```\n",
    "````"
   ]
  },
  {
   "cell_type": "code",
   "execution_count": 8,
   "id": "c90312e1",
   "metadata": {
    "tags": [
     "remove-input",
     "hide-output"
    ]
   },
   "outputs": [
    {
     "name": "stdout",
     "output_type": "stream",
     "text": [
      "Matthew Gambardella\n",
      "Kim Ralls\n",
      "Eva Corets\n",
      "Eva Corets\n",
      "Eva Corets\n",
      "Cynthia Randall\n",
      "Paula Thurman\n",
      "Stefan Knorr\n",
      "Peter Kress\n",
      "Tim O'Brien\n",
      "Tim O'Brien\n",
      "Mike Galos\n"
     ]
    }
   ],
   "source": [
    "for book in root.find_all('book'):\n",
    "\tfor author in book.find_all('author'):\n",
    "\t\tname = author.find('name').text\n",
    "\t\tsurname = author.find('surname').text\n",
    "\t\tprint(name, surname) "
   ]
  },
  {
   "cell_type": "markdown",
   "id": "24e5b480",
   "metadata": {},
   "source": [
    "The second approach is to ‘escape’ the element hiearchy and directly select all subelements, \n",
    "on all levels beneath the current element. This is usefull if you have an XML with a lot of \n",
    "As explained in lesson *3*, you can just insert the name of the subchild, as shown in the following code:"
   ]
  },
  {
   "cell_type": "code",
   "execution_count": 9,
   "id": "3b8d79b5",
   "metadata": {
    "tags": [
     "hide-output"
    ]
   },
   "outputs": [
    {
     "name": "stdout",
     "output_type": "stream",
     "text": [
      "Matthew Gambardella\n",
      "Kim Ralls\n",
      "Eva Corets\n",
      "Eva Corets\n",
      "Eva Corets\n",
      "Cynthia Randall\n",
      "Paula Thurman\n",
      "Stefan Knorr\n",
      "Peter Kress\n",
      "Tim O'Brien\n",
      "Tim O'Brien\n",
      "Mike Galos\n"
     ]
    }
   ],
   "source": [
    "for book in root.find_all('author'):\n",
    "    name = book.find('name').text\n",
    "    surname = book.find('surname').text\n",
    "    print(name, surname)  "
   ]
  },
  {
   "cell_type": "markdown",
   "id": "c3f2a623",
   "metadata": {},
   "source": [
    "## Extract the book identifier\n",
    "\n",
    "As you can see in the XML, each book has its own ***identifier***. \n",
    "As books can have the same name, and authors can have written multiple books, it is good practise to always use the identifier to point to a specific item. \n",
    "\n",
    "In the previous exercises, we extracted the content that was presented between the tags of an element.\n",
    "For example:\n",
    "\n",
    "\n",
    "```XML\n",
    "<title>XML Developers Guide</title>\n",
    "```\n",
    "\n",
    "In this example, you see that the title 'XML Developer's guide' is stored between the tags **title** and **/title**. We extracted this content by adding '.text'. \n",
    "\n",
    "````{admonition} Exercise\n",
    ":class: attention\n",
    "Look at this example of the 'book' element with its identifier. \n",
    "What is the difference between the place of the content of the identifier and the place of the content of the title?\n",
    "\n",
    "```XML\n",
    "\t<book id=\"bk101\">\n",
    "\t</book>\n",
    "```\n",
    "````\n",
    "\n",
    "```{admonition} Solution\n",
    ":class: tip, dropdown\n",
    "The content of the identifier is stored in an *attribute* of the 'book' element, with the name 'id'. \n",
    "\t\n",
    "```\n",
    "\n",
    "To extract content from attributes, we need to use the '.get' method. \n",
    "We still use the *for loop* to iterate through all the books, but instead of the content of certain elements, we now extract the content of the attribute."
   ]
  },
  {
   "cell_type": "code",
   "execution_count": 10,
   "id": "521d4e87",
   "metadata": {
    "tags": [
     "hide-output"
    ]
   },
   "outputs": [
    {
     "name": "stdout",
     "output_type": "stream",
     "text": [
      "bk101\n",
      "bk102\n",
      "bk103\n",
      "bk104\n",
      "bk105\n",
      "bk106\n",
      "bk107\n",
      "bk108\n",
      "bk109\n",
      "bk110\n",
      "bk111\n",
      "bk112\n"
     ]
    }
   ],
   "source": [
    "for book in root.find_all('book'):\n",
    "    identifier = book.get('id')\n",
    "    print(identifier)"
   ]
  },
  {
   "cell_type": "markdown",
   "id": "7accdc24",
   "metadata": {},
   "source": [
    "## Structure all information\n",
    "\n",
    "We can combine the different codes we have used above into one cell. \n",
    "To do this we can use the following scheme:\n",
    "\n",
    "```\n",
    "Iterate through all books\t\n",
    "\tGet content from id attribute\n",
    "\tGet title content\t\n",
    "\tGet description content\t\n",
    "\tIterate through all authors\n",
    "\t\tGet name\n",
    "\t\tGet surname\n",
    "\tPrint id, title, description, name and surname\n",
    "```\n",
    "\n",
    "```{admonition} Exercise\n",
    ":class: attention\n",
    "Create the code that extracts all information we have used so far, from every book. And print this information (see scheme above). \n",
    "```\n",
    "\n",
    "````{admonition} Solution\n",
    ":class: tip, dropdown\n",
    "```Python\n",
    "for book in root.find_all('book'):\n",
    "\tidentifier = book.get('id')\n",
    "\ttitle = book.find('title').text\n",
    "\tdescription = book.find('description').text\n",
    "\tfor author in book.find_all('author'):\n",
    "\t\tname = author.find('name').text\n",
    "\t\tsurname = author.find('surname').text\n",
    "\tprint(identifier, title, description, name, surname)\n",
    "```\n",
    "````\n",
    "\n",
    "This leads to the following output:"
   ]
  },
  {
   "cell_type": "code",
   "execution_count": 11,
   "id": "6bd96cd6",
   "metadata": {
    "tags": [
     "remove-input",
     "hide-output"
    ]
   },
   "outputs": [
    {
     "name": "stdout",
     "output_type": "stream",
     "text": [
      "bk101 XML Developer's Guide An in-depth look at creating applications \n",
      "      with XML. Matthew Gambardella\n",
      "bk102 Midnight Rain A former architect battles corporate zombies, \n",
      "      an evil sorceress, and her own childhood to become queen \n",
      "      of the world. Kim Ralls\n",
      "bk103 Maeve Ascendant After the collapse of a nanotechnology \n",
      "      society in England, the young survivors lay the \n",
      "      foundation for a new society. Eva Corets\n",
      "bk104 Oberon's Legacy In post-apocalypse England, the mysterious \n",
      "      agent known only as Oberon helps to create a new life \n",
      "      for the inhabitants of London. Sequel to Maeve \n",
      "      Ascendant. Eva Corets\n",
      "bk105 The Sundered Grail The two daughters of Maeve, half-sisters, \n",
      "      battle one another for control of England. Sequel to \n",
      "      Oberon's Legacy. Eva Corets\n",
      "bk106 Lover Birds When Carla meets Paul at an ornithology \n",
      "      conference, tempers fly as feathers get ruffled. Cynthia Randall\n",
      "bk107 Splish Splash A deep sea diver finds true love twenty \n",
      "      thousand leagues beneath the sea. Paula Thurman\n",
      "bk108 Creepy Crawlies An anthology of horror stories about roaches,\n",
      "      centipedes, scorpions  and other insects. Stefan Knorr\n",
      "bk109 Paradox Lost After an inadvertant trip through a Heisenberg\n",
      "      Uncertainty Device, James Salway discovers the problems \n",
      "      of being quantum. Peter Kress\n",
      "bk110 Microsoft .NET: The Programming Bible Microsoft's .NET initiative is explored in \n",
      "      detail in this deep programmer's reference. Tim O'Brien\n",
      "bk111 MSXML3: A Comprehensive Guide The Microsoft MSXML3 parser is covered in \n",
      "      detail, with attention to XML DOM interfaces, XSLT processing, \n",
      "      SAX and more. Tim O'Brien\n",
      "bk112 Visual Studio 7: A Comprehensive Guide Microsoft Visual Studio 7 is explored in depth,\n",
      "      looking at how Visual Basic, Visual C++, C#, and ASP+ are \n",
      "      integrated into a comprehensive development \n",
      "      environment. Mike Galos\n"
     ]
    }
   ],
   "source": [
    "for book in root.find_all('book'):\n",
    "\tidentifier = book.get('id')\n",
    "\ttitle = book.find('title').text\n",
    "\tdescription = book.find('description').text\n",
    "\tfor author in book.find_all('author'):\n",
    "\t\tname = author.find('name').text\n",
    "\t\tsurname = author.find('surname').text\n",
    "\tprint(identifier, title, description, name, surname)"
   ]
  },
  {
   "cell_type": "markdown",
   "id": "63eee394",
   "metadata": {},
   "source": [
    "As you can see, it displays all information we wanted, but the output is quite unreadable. \n",
    "For example, it is not clear which part of the content belongs to the title, and which to the description. \n",
    "\n",
    "To make the output more readable, we can put text before our output variables. \n",
    "In Python, this can be done like this:\n",
    "```Python\n",
    "print(f\"This is the string we type and {this_is_the_variable}\")\n",
    "```\n",
    "\n",
    "So in our example, we could add the following:"
   ]
  },
  {
   "cell_type": "code",
   "execution_count": 12,
   "id": "3f9a3458",
   "metadata": {
    "tags": [
     "hide-output"
    ]
   },
   "outputs": [
    {
     "name": "stdout",
     "output_type": "stream",
     "text": [
      "Identifier= bk101 title= XML Developer's Guide description= An in-depth look at creating applications \n",
      "      with XML. name= Matthew Gambardella\n",
      "Identifier= bk102 title= Midnight Rain description= A former architect battles corporate zombies, \n",
      "      an evil sorceress, and her own childhood to become queen \n",
      "      of the world. name= Kim Ralls\n",
      "Identifier= bk103 title= Maeve Ascendant description= After the collapse of a nanotechnology \n",
      "      society in England, the young survivors lay the \n",
      "      foundation for a new society. name= Eva Corets\n",
      "Identifier= bk104 title= Oberon's Legacy description= In post-apocalypse England, the mysterious \n",
      "      agent known only as Oberon helps to create a new life \n",
      "      for the inhabitants of London. Sequel to Maeve \n",
      "      Ascendant. name= Eva Corets\n",
      "Identifier= bk105 title= The Sundered Grail description= The two daughters of Maeve, half-sisters, \n",
      "      battle one another for control of England. Sequel to \n",
      "      Oberon's Legacy. name= Eva Corets\n",
      "Identifier= bk106 title= Lover Birds description= When Carla meets Paul at an ornithology \n",
      "      conference, tempers fly as feathers get ruffled. name= Cynthia Randall\n",
      "Identifier= bk107 title= Splish Splash description= A deep sea diver finds true love twenty \n",
      "      thousand leagues beneath the sea. name= Paula Thurman\n",
      "Identifier= bk108 title= Creepy Crawlies description= An anthology of horror stories about roaches,\n",
      "      centipedes, scorpions  and other insects. name= Stefan Knorr\n"
     ]
    },
    {
     "name": "stdout",
     "output_type": "stream",
     "text": [
      "Identifier= bk109 title= Paradox Lost description= After an inadvertant trip through a Heisenberg\n",
      "      Uncertainty Device, James Salway discovers the problems \n",
      "      of being quantum. name= Peter Kress\n",
      "Identifier= bk110 title= Microsoft .NET: The Programming Bible description= Microsoft's .NET initiative is explored in \n",
      "      detail in this deep programmer's reference. name= Tim O'Brien\n",
      "Identifier= bk111 title= MSXML3: A Comprehensive Guide description= The Microsoft MSXML3 parser is covered in \n",
      "      detail, with attention to XML DOM interfaces, XSLT processing, \n",
      "      SAX and more. name= Tim O'Brien\n",
      "Identifier= bk112 title= Visual Studio 7: A Comprehensive Guide description= Microsoft Visual Studio 7 is explored in depth,\n",
      "      looking at how Visual Basic, Visual C++, C#, and ASP+ are \n",
      "      integrated into a comprehensive development \n",
      "      environment. name= Mike Galos\n"
     ]
    }
   ],
   "source": [
    "for book in root.find_all('book'):\n",
    "    identifier = book.get('id')\n",
    "    title = book.find('title').text\n",
    "    description = book.find('description').text\n",
    "    for author in book.find_all('author'):\n",
    "        name = author.find('name').text\n",
    "        surname = author.find('surname').text\n",
    "\t## add text to identify the extracted parts\n",
    "    print(f\"Identifier= {identifier} title= {title} description= {description} name= {name} {surname}\")"
   ]
  },
  {
   "cell_type": "markdown",
   "id": "e2c8ba24",
   "metadata": {},
   "source": [
    "As you can see, we can now detect the various parts that we extracted. \n",
    "However, it is still not easy to read.\n",
    "To resolve this, we can add linebreaks between each variable and between the different books. W\n",
    "e add a line break by adding '\\n' after each variable, \n",
    "leading to the following code:"
   ]
  },
  {
   "cell_type": "code",
   "execution_count": 13,
   "id": "5f031ed2",
   "metadata": {
    "tags": [
     "hide-output"
    ]
   },
   "outputs": [
    {
     "name": "stdout",
     "output_type": "stream",
     "text": [
      "Identifier= bk101\n",
      " title= XML Developer's Guide\n",
      " description= An in-depth look at creating applications \n",
      "      with XML. \n",
      " name= Matthew Gambardella\n",
      "\n",
      "Identifier= bk102\n",
      " title= Midnight Rain\n",
      " description= A former architect battles corporate zombies, \n",
      "      an evil sorceress, and her own childhood to become queen \n",
      "      of the world. \n",
      " name= Kim Ralls\n",
      "\n",
      "Identifier= bk103\n",
      " title= Maeve Ascendant\n",
      " description= After the collapse of a nanotechnology \n",
      "      society in England, the young survivors lay the \n",
      "      foundation for a new society. \n",
      " name= Eva Corets\n",
      "\n",
      "Identifier= bk104\n",
      " title= Oberon's Legacy\n",
      " description= In post-apocalypse England, the mysterious \n",
      "      agent known only as Oberon helps to create a new life \n",
      "      for the inhabitants of London. Sequel to Maeve \n",
      "      Ascendant. \n",
      " name= Eva Corets\n",
      "\n",
      "Identifier= bk105\n",
      " title= The Sundered Grail\n",
      " description= The two daughters of Maeve, half-sisters, \n",
      "      battle one another for control of England. Sequel to \n",
      "      Oberon's Legacy. \n",
      " name= Eva Corets\n",
      "\n",
      "Identifier= bk106\n",
      " title= Lover Birds\n",
      " description= When Carla meets Paul at an ornithology \n",
      "      conference, tempers fly as feathers get ruffled. \n",
      " name= Cynthia Randall\n",
      "\n",
      "Identifier= bk107\n",
      " title= Splish Splash\n",
      " description= A deep sea diver finds true love twenty \n",
      "      thousand leagues beneath the sea. \n",
      " name= Paula Thurman\n"
     ]
    },
    {
     "name": "stdout",
     "output_type": "stream",
     "text": [
      "\n",
      "Identifier= bk108\n",
      " title= Creepy Crawlies\n",
      " description= An anthology of horror stories about roaches,\n",
      "      centipedes, scorpions  and other insects. \n",
      " name= Stefan Knorr\n",
      "\n",
      "Identifier= bk109\n",
      " title= Paradox Lost\n",
      " description= After an inadvertant trip through a Heisenberg\n",
      "      Uncertainty Device, James Salway discovers the problems \n",
      "      of being quantum. \n",
      " name= Peter Kress\n",
      "\n",
      "Identifier= bk110\n",
      " title= Microsoft .NET: The Programming Bible\n",
      " description= Microsoft's .NET initiative is explored in \n",
      "      detail in this deep programmer's reference. \n",
      " name= Tim O'Brien\n",
      "\n",
      "Identifier= bk111\n",
      " title= MSXML3: A Comprehensive Guide\n",
      " description= The Microsoft MSXML3 parser is covered in \n",
      "      detail, with attention to XML DOM interfaces, XSLT processing, \n",
      "      SAX and more. \n",
      " name= Tim O'Brien\n",
      "\n",
      "Identifier= bk112\n",
      " title= Visual Studio 7: A Comprehensive Guide\n",
      " description= Microsoft Visual Studio 7 is explored in depth,\n",
      "      looking at how Visual Basic, Visual C++, C#, and ASP+ are \n",
      "      integrated into a comprehensive development \n",
      "      environment. \n",
      " name= Mike Galos\n",
      "\n"
     ]
    }
   ],
   "source": [
    "for book in root.find_all('book'):\n",
    "    identifier = book.get('id')\n",
    "    title = book.find('title').text\n",
    "    description = book.find('description').text\n",
    "    for author in book.find_all('author'):\n",
    "        name = author.find('name').text\n",
    "        surname = author.find('surname').text\n",
    "\t## add linebreaks\n",
    "    print(f\"Identifier= {identifier }\\n title= {title}\\n description= {description} \\n name= {name} {surname}\\n\")"
   ]
  },
  {
   "cell_type": "markdown",
   "id": "46ba1fdc",
   "metadata": {},
   "source": [
    "Well, that output looks way better, does it not? \n",
    "\n",
    "## Store the information in a .csv or .txt file.\n",
    "In a lot of cases, you not only want the extracted content in your Jupyter Notebook, but you also want to store them \n",
    "for future use. \n",
    "We will show you how to store the output in two different ways:\n",
    "- as one file with the information of all books in .csv format (which, for example, can be opened in Excel)\n",
    "- as one textfile per book. \n",
    "\n",
    "### Store in one file\n",
    "The easiest way to store and save Python output in one file is through storing it in a Dataframe from the Python package 'Pandas' and then saving this Dataframe. \n",
    "You can add data directly from the *for loops* we created above in a Pandas Dataframe, but we prefer the method in which you first create a list and then transform this list in the output, as Pandas Dataframe execution can become fairly slow with large amounts of data. \n",
    "\n",
    "To create a list, we first have to declare an empty list. This is done with the following syntax:\n",
    "```\n",
    "booklist = []\n",
    "```\n",
    "\n",
    "Now, we alter our *for loop* a bit. Instead of printing the output to the screen, as we did above, we store our output in a list. \n",
    "We can use the following code:"
   ]
  },
  {
   "cell_type": "code",
   "execution_count": 14,
   "id": "0bde8059",
   "metadata": {
    "tags": [
     "hide-output"
    ]
   },
   "outputs": [],
   "source": [
    "booklist = []\n",
    "\n",
    "for book in root.find_all('book'):\n",
    "    identifier = book.get('id')\n",
    "    title = book.find('title').text\n",
    "    description = book.find('description').text\n",
    "    for author in book.find_all('author'):\n",
    "        name = author.find('name').text\n",
    "        surname = author.find('surname').text\n",
    "    booklist.append([identifier, title, description, name+\" \"+surname])"
   ]
  },
  {
   "cell_type": "markdown",
   "id": "be164f06",
   "metadata": {},
   "source": [
    "This leads to a list, called 'booklist', in which for every book all extracted information is stored. \n",
    "We can then easily transform this list to a pandas DataFrame. \n",
    "To do so, we need to import pandas first with the code\n",
    "```\n",
    "import pandas as pd\n",
    "```\n",
    "\n",
    "Then we type:\n",
    "``` \n",
    "books = pd.DataFrame(booklist, columns=[\"identifier\", \"title\", \"description\", \"name\"])\n",
    "```\n",
    "\n",
    "\n",
    "This code works as follows. You declare the variable 'books', which will be used to store all \n",
    "the information. Then you let Python know that you want to create a Dataframe. \n",
    "The content of this Dataframe is the list 'booklist', which we just created. \n",
    "We then tell Python how we want to name the columns (this should be in the same order as the order of the variables in the list). \n",
    "\n",
    "You can show the dataframe you just created by typing:\n",
    "``` \n",
    "books\n",
    "```\n",
    "\n",
    "This results in the following output:"
   ]
  },
  {
   "cell_type": "code",
   "execution_count": 15,
   "id": "fc8d4f37",
   "metadata": {
    "tags": [
     "remove-input",
     "hide-output"
    ]
   },
   "outputs": [
    {
     "data": {
      "text/html": [
       "<div>\n",
       "<style scoped>\n",
       "    .dataframe tbody tr th:only-of-type {\n",
       "        vertical-align: middle;\n",
       "    }\n",
       "\n",
       "    .dataframe tbody tr th {\n",
       "        vertical-align: top;\n",
       "    }\n",
       "\n",
       "    .dataframe thead th {\n",
       "        text-align: right;\n",
       "    }\n",
       "</style>\n",
       "<table border=\"1\" class=\"dataframe\">\n",
       "  <thead>\n",
       "    <tr style=\"text-align: right;\">\n",
       "      <th></th>\n",
       "      <th>identifier</th>\n",
       "      <th>title</th>\n",
       "      <th>description</th>\n",
       "      <th>name</th>\n",
       "    </tr>\n",
       "  </thead>\n",
       "  <tbody>\n",
       "    <tr>\n",
       "      <th>0</th>\n",
       "      <td>bk101</td>\n",
       "      <td>XML Developer's Guide</td>\n",
       "      <td>An in-depth look at creating applications \\n  ...</td>\n",
       "      <td>Matthew Gambardella</td>\n",
       "    </tr>\n",
       "    <tr>\n",
       "      <th>1</th>\n",
       "      <td>bk102</td>\n",
       "      <td>Midnight Rain</td>\n",
       "      <td>A former architect battles corporate zombies, ...</td>\n",
       "      <td>Kim Ralls</td>\n",
       "    </tr>\n",
       "    <tr>\n",
       "      <th>2</th>\n",
       "      <td>bk103</td>\n",
       "      <td>Maeve Ascendant</td>\n",
       "      <td>After the collapse of a nanotechnology \\n     ...</td>\n",
       "      <td>Eva Corets</td>\n",
       "    </tr>\n",
       "    <tr>\n",
       "      <th>3</th>\n",
       "      <td>bk104</td>\n",
       "      <td>Oberon's Legacy</td>\n",
       "      <td>In post-apocalypse England, the mysterious \\n ...</td>\n",
       "      <td>Eva Corets</td>\n",
       "    </tr>\n",
       "    <tr>\n",
       "      <th>4</th>\n",
       "      <td>bk105</td>\n",
       "      <td>The Sundered Grail</td>\n",
       "      <td>The two daughters of Maeve, half-sisters, \\n  ...</td>\n",
       "      <td>Eva Corets</td>\n",
       "    </tr>\n",
       "    <tr>\n",
       "      <th>5</th>\n",
       "      <td>bk106</td>\n",
       "      <td>Lover Birds</td>\n",
       "      <td>When Carla meets Paul at an ornithology \\n    ...</td>\n",
       "      <td>Cynthia Randall</td>\n",
       "    </tr>\n",
       "    <tr>\n",
       "      <th>6</th>\n",
       "      <td>bk107</td>\n",
       "      <td>Splish Splash</td>\n",
       "      <td>A deep sea diver finds true love twenty \\n    ...</td>\n",
       "      <td>Paula Thurman</td>\n",
       "    </tr>\n",
       "    <tr>\n",
       "      <th>7</th>\n",
       "      <td>bk108</td>\n",
       "      <td>Creepy Crawlies</td>\n",
       "      <td>An anthology of horror stories about roaches,\\...</td>\n",
       "      <td>Stefan Knorr</td>\n",
       "    </tr>\n",
       "    <tr>\n",
       "      <th>8</th>\n",
       "      <td>bk109</td>\n",
       "      <td>Paradox Lost</td>\n",
       "      <td>After an inadvertant trip through a Heisenberg...</td>\n",
       "      <td>Peter Kress</td>\n",
       "    </tr>\n",
       "    <tr>\n",
       "      <th>9</th>\n",
       "      <td>bk110</td>\n",
       "      <td>Microsoft .NET: The Programming Bible</td>\n",
       "      <td>Microsoft's .NET initiative is explored in \\n ...</td>\n",
       "      <td>Tim O'Brien</td>\n",
       "    </tr>\n",
       "    <tr>\n",
       "      <th>10</th>\n",
       "      <td>bk111</td>\n",
       "      <td>MSXML3: A Comprehensive Guide</td>\n",
       "      <td>The Microsoft MSXML3 parser is covered in \\n  ...</td>\n",
       "      <td>Tim O'Brien</td>\n",
       "    </tr>\n",
       "    <tr>\n",
       "      <th>11</th>\n",
       "      <td>bk112</td>\n",
       "      <td>Visual Studio 7: A Comprehensive Guide</td>\n",
       "      <td>Microsoft Visual Studio 7 is explored in depth...</td>\n",
       "      <td>Mike Galos</td>\n",
       "    </tr>\n",
       "  </tbody>\n",
       "</table>\n",
       "</div>"
      ],
      "text/plain": [
       "   identifier                                   title  \\\n",
       "0       bk101                   XML Developer's Guide   \n",
       "1       bk102                           Midnight Rain   \n",
       "2       bk103                         Maeve Ascendant   \n",
       "3       bk104                         Oberon's Legacy   \n",
       "4       bk105                      The Sundered Grail   \n",
       "5       bk106                             Lover Birds   \n",
       "6       bk107                           Splish Splash   \n",
       "7       bk108                         Creepy Crawlies   \n",
       "8       bk109                            Paradox Lost   \n",
       "9       bk110   Microsoft .NET: The Programming Bible   \n",
       "10      bk111           MSXML3: A Comprehensive Guide   \n",
       "11      bk112  Visual Studio 7: A Comprehensive Guide   \n",
       "\n",
       "                                          description                 name  \n",
       "0   An in-depth look at creating applications \\n  ...  Matthew Gambardella  \n",
       "1   A former architect battles corporate zombies, ...            Kim Ralls  \n",
       "2   After the collapse of a nanotechnology \\n     ...           Eva Corets  \n",
       "3   In post-apocalypse England, the mysterious \\n ...           Eva Corets  \n",
       "4   The two daughters of Maeve, half-sisters, \\n  ...           Eva Corets  \n",
       "5   When Carla meets Paul at an ornithology \\n    ...      Cynthia Randall  \n",
       "6   A deep sea diver finds true love twenty \\n    ...        Paula Thurman  \n",
       "7   An anthology of horror stories about roaches,\\...         Stefan Knorr  \n",
       "8   After an inadvertant trip through a Heisenberg...          Peter Kress  \n",
       "9   Microsoft's .NET initiative is explored in \\n ...          Tim O'Brien  \n",
       "10  The Microsoft MSXML3 parser is covered in \\n  ...          Tim O'Brien  \n",
       "11  Microsoft Visual Studio 7 is explored in depth...           Mike Galos  "
      ]
     },
     "execution_count": 15,
     "metadata": {},
     "output_type": "execute_result"
    }
   ],
   "source": [
    "\n",
    "import pandas as pd\n",
    "books = pd.DataFrame(booklist, columns=[\"identifier\",\"title\", \"description\", \"name\"])\n",
    "books"
   ]
  },
  {
   "cell_type": "markdown",
   "id": "1e53ecc8",
   "metadata": {},
   "source": [
    "Now we can save this dataframe into a csv file by typing:\n",
    "```\n",
    "books.to_csv('book.csv')\n",
    "``` \n",
    "\n",
    "```{note}\n",
    "This saves the csv in the root folder of your jupyter installation. \n",
    "If you want it saved in a specific location you need to specify the path before the filename followed by a '/,\n",
    "for example ```books.to_csv('C:/Users/Documents/book.csv')```\n",
    "Please remember to use a backward slash ('/') between the folders\n",
    "```\n",
    "\n",
    "\n",
    "### Create a textfile per book\n",
    "\n",
    "If you want to create a textfile for every book, you can add the code directly in your *for loop*. \n",
    "\n",
    "First, you have to declare a textfile in Python and give it a name. Then, you open the file and write content to it. After this, you close the file. Closing the file is important, else the loop will keep adding data to the file.\n",
    "You can try this with the following code:\n",
    "\n",
    "```\n",
    "with open(\"test.txt\", \"w\") as f:\n",
    "    f.write(\"This is just a test file\")\n",
    "```\n",
    "\n",
    "````{note}\n",
    "By default, Python stores the text file in the same folder as where you run your Jupyter Notebook. You can alter this by adding a path to your textfile, for example:\n",
    "```\n",
    " myfile = open('C:/Users/Documents/test.txt', 'w') \n",
    "```\n",
    "Please remember to use a backward slash (/) between the folders\n",
    "````\n",
    "\n",
    "With a few alterations, we can use this code to save our book information to a seperate file per book. \n",
    "First, we give the text file the name of the book identifier. We can do that by adding the variable into the name of the file like this:\n",
    "```\n",
    "with open(f\"{identfier}.txt\", \"w\") as f:\n",
    "```\n",
    "\n",
    "Then, we create the content of the file based on the content we extracted from the book. \n",
    "```\n",
    "f.write(name + \" \" + surname + \"\\n\" + title + \"\\n\" + description)\n",
    "```\n",
    "\n",
    "If we put these lines into our *for loop*, Python will save every book with its own name and information. \n",
    "The code looks like this:\n",
    "```\n",
    "for book in root.find_all('book'):\n",
    "    identifier = book.get('id')\n",
    "    title = book.find('title').text\n",
    "    description = book.find('description').text\n",
    "    for author in book.find_all('author'):\n",
    "        name = author.find('name').text\n",
    "        surname = author.find('surname').text\n",
    "    with open(f\"{identfier}.txt\", \"w\") as f:\n",
    "\t\tf.write(name + \" \" + surname + \"\\n\" + title + \"\\n\" + description)\n",
    "```\n",
    "\n",
    "## Filter information\n",
    "\n",
    "You can also search for specific elements in your XML. \n",
    "For example, just the title information from the book 'bk109'. \n",
    "To do so, you can start with the same *for loop* as we created in this lesson. \n",
    "However, before you print the output, you first check if you have the element you want (in this case: book 109). This can be done with an 'if' statement and it looks like this:"
   ]
  },
  {
   "cell_type": "code",
   "execution_count": 16,
   "id": "aa192af6",
   "metadata": {},
   "outputs": [
    {
     "name": "stdout",
     "output_type": "stream",
     "text": [
      "Paradox Lost\n"
     ]
    }
   ],
   "source": [
    "for book in root.find_all('book'):\n",
    "    identifier = book.get('id')\n",
    "    if identifier == \"bk109\":\n",
    "        title = book.find('title').text\n",
    "        print(title)"
   ]
  },
  {
   "cell_type": "markdown",
   "id": "387b2788",
   "metadata": {},
   "source": [
    "You can also search the content from XML elements, searching the content for a match. For example, if we want to print all titles that contain the word 'XML', \n",
    "we can use the following code:"
   ]
  },
  {
   "cell_type": "code",
   "execution_count": 17,
   "id": "08759b6a",
   "metadata": {},
   "outputs": [
    {
     "name": "stdout",
     "output_type": "stream",
     "text": [
      "XML Developer's Guide\n",
      "MSXML3: A Comprehensive Guide\n"
     ]
    }
   ],
   "source": [
    "for book in root.find_all('book'):\n",
    "    title = book.find('title').text\n",
    "    if \"XML\" in title:\n",
    "        print(title)"
   ]
  },
  {
   "cell_type": "markdown",
   "id": "548309d6",
   "metadata": {},
   "source": [
    "```{note}\n",
    "Strings in Python are capital senstive! This means that 'XML' is not equal to 'xml' or 'Xml' in Python. \n",
    "```\n",
    "\n",
    "\n",
    "```{admonition} Exercise\n",
    ":class: attention\n",
    "Print out the title of all books that have England in their description. \n",
    "```\n",
    "\n",
    "````{admonition} Solution\n",
    ":class: tip, dropdown\n",
    "```Python\n",
    "for book in root.find_all('book'):\n",
    "\tdescription = book.find('description').text\n",
    "\tif \"England\" in description:\n",
    "\t\tprint(book.find('description').text)\n",
    "```\n",
    "````"
   ]
  },
  {
   "cell_type": "code",
   "execution_count": 18,
   "id": "8075c884",
   "metadata": {
    "tags": [
     "remove-input",
     "hide-output"
    ]
   },
   "outputs": [
    {
     "name": "stdout",
     "output_type": "stream",
     "text": [
      "After the collapse of a nanotechnology \n",
      "      society in England, the young survivors lay the \n",
      "      foundation for a new society.\n",
      "In post-apocalypse England, the mysterious \n",
      "      agent known only as Oberon helps to create a new life \n",
      "      for the inhabitants of London. Sequel to Maeve \n",
      "      Ascendant.\n",
      "The two daughters of Maeve, half-sisters, \n",
      "      battle one another for control of England. Sequel to \n",
      "      Oberon's Legacy.\n"
     ]
    }
   ],
   "source": [
    "for book in root.find_all('book'):\n",
    "\tdescription = book.find('description').text\n",
    "\tif \"England\" in description:\n",
    "\t\tprint(book.find('description').text)"
   ]
  },
  {
   "cell_type": "markdown",
   "id": "85df82f1",
   "metadata": {},
   "source": [
    "\t\t\n",
    "### Namespaces  \n",
    "\n",
    "As we mentioned in lesson *2* during our introduction to XML, some XML files contain namespaces. \n",
    "In lesson *3*,we mentioned that Beautiful Soup omits these namespaces in elements, so you don't have to declare them. \n",
    "\n",
    "Let's look at the example with namespaces from lesson 2:\n",
    "\n",
    "```XML\n",
    "<p:student xmlns:p=\"http//www.imaginarypythoncourses.com/student\">\n",
    "  <p:id>3235329</p:id>\n",
    "  <p:name>Jeff Smith</p:name>\n",
    "  <p:language>Python</p:language>\n",
    "  <p:rating>9.5</p:rating>\n",
    "</p:student>\n",
    "```\n",
    "\n",
    "Imagine, we want to extract the name of the student from this XML file. \n",
    "\n",
    "First, we load the file into our Notebook (the file is called 'namespaces.xml' and can be [downloaded here](https://github.com/MirjamC/xml-workshop/tree/master/data)"
   ]
  },
  {
   "cell_type": "code",
   "execution_count": 19,
   "id": "18ad8ba5",
   "metadata": {},
   "outputs": [],
   "source": [
    "with open(\"data/namespaces.xml\") as f:\n",
    "    root_ns = BeautifulSoup(f, 'xml')"
   ]
  },
  {
   "cell_type": "markdown",
   "id": "fa5e1a16",
   "metadata": {},
   "source": [
    "Then, we create a *for loop* that iterates through the file and returns the values of all 'name' elements."
   ]
  },
  {
   "cell_type": "code",
   "execution_count": 20,
   "id": "3ce5cb04",
   "metadata": {},
   "outputs": [
    {
     "name": "stdout",
     "output_type": "stream",
     "text": [
      "Jeff Smith\n"
     ]
    }
   ],
   "source": [
    "for student in root_ns.find_all('name'):\n",
    "    print(student.text)"
   ]
  },
  {
   "cell_type": "markdown",
   "id": "5d98cfb1",
   "metadata": {},
   "source": [
    "As you can see, Beautiful Soup has no problem with printing the name of the student. \n",
    "\n",
    "However, in some XML documents, *attributes* can have a namespace. \n",
    "In such cases, you have to put the namespace identifier in your code. \n",
    "\n",
    "Let's imagine the XML looks as follows:\n",
    "\n",
    "```XML\n",
    "<p:student xmlns:p=\"http//www.imaginarypythoncourses.com/student\">\n",
    "  <p:name p:id='3235329'>Jeff Smith</p:name>\n",
    "  <p:language>Python</p:language>\n",
    "  <p:rating>9.5</p:rating>\n",
    "</p:student>\n",
    "```\n",
    "\n",
    "Imagine we want to extract the attribute 'id'. We see that this attribute has a namespace, so we need to declare it in the code. \n",
    "This can only be done by putting the identifier into curly brackets before the attribute name. \n",
    "\n",
    "The code should looks as follows:\n",
    "```\n",
    "for student in root.find_all('name'):\n",
    "    identifier = student.get('{http//www.imaginarypythoncourses.com/student}id')\n",
    "```\n",
    "\n",
    "We now have a good basis to try exploring some reallife examples of XML files used in Digital Humanities research. We will introduce some of these formats in the following section."
   ]
  }
 ],
 "metadata": {
  "jupytext": {
   "cell_metadata_filter": "-all",
   "formats": "md:myst",
   "text_representation": {
    "extension": ".md",
    "format_name": "myst",
    "format_version": 0.13,
    "jupytext_version": "1.11.5"
   }
  },
  "kernelspec": {
   "display_name": "Python 3",
   "language": "python",
   "name": "python3"
  },
  "language_info": {
   "codemirror_mode": {
    "name": "ipython",
    "version": 3
   },
   "file_extension": ".py",
   "mimetype": "text/x-python",
   "name": "python",
   "nbconvert_exporter": "python",
   "pygments_lexer": "ipython3",
   "version": "3.9.12"
  },
  "source_map": [
   14,
   54,
   56,
   66,
   69,
   80,
   84,
   101,
   107,
   153,
   158,
   166,
   174,
   220,
   227,
   245,
   252,
   257,
   264,
   301,
   308,
   346,
   356,
   369,
   381,
   389,
   402,
   424,
   437,
   462,
   469,
   536,
   542,
   547,
   552,
   574,
   580,
   602,
   605,
   609,
   612
  ]
 },
 "nbformat": 4,
 "nbformat_minor": 5
}
{
 "cells": [
  {
   "cell_type": "markdown",
   "id": "395b07c7",
   "metadata": {},
   "source": [
    "# End of course\n",
    "\n",
    "\n",
    "Congratulations! You have managed to work all the way through the workshop. Hopefully this was a useful step on your journey into XML. \n",
    "\n",
    "The Jupyter book and all data for the workshop are available at: [GitHub](https://github.com/MirjamC/xml-workshop). Please feel free to download them.\n",
    "\n",
    "If you have any suggestions or improvements we would love to hear about them. These can be reported as an issue at github or sent to mirjam.cuper@kb.nl\n",
    "\n",
    "We hope you have enjoyed the workshop!"
   ]
  }
 ],
 "metadata": {
  "jupytext": {
   "cell_metadata_filter": "-all",
   "formats": "md:myst",
   "text_representation": {
    "extension": ".md",
    "format_name": "myst",
    "format_version": 0.13,
    "jupytext_version": "1.11.5"
   }
  },
  "kernelspec": {
   "display_name": "Python 3",
   "language": "python",
   "name": "python3"
  },
  "language_info": {
   "codemirror_mode": {
    "name": "ipython",
    "version": 3
   },
   "file_extension": ".py",
   "mimetype": "text/x-python",
   "name": "python",
   "nbconvert_exporter": "python",
   "pygments_lexer": "ipython3",
   "version": "3.9.12"
  },
  "source_map": [
   14
  ]
 },
 "nbformat": 4,
 "nbformat_minor": 5
}